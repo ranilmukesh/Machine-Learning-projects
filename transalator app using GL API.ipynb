{
 "cells": [
  {
   "cell_type": "code",
   "execution_count": 1,
   "metadata": {},
   "outputs": [
    {
     "name": "stdout",
     "output_type": "stream",
     "text": [
      "Translator App\n",
      "----------------\n"
     ]
    },
    {
     "ename": "ValueError",
     "evalue": "invalid destination language",
     "output_type": "error",
     "traceback": [
      "\u001b[1;31m---------------------------------------------------------------------------\u001b[0m",
      "\u001b[1;31mValueError\u001b[0m                                Traceback (most recent call last)",
      "\u001b[1;32me:\\python files\\transalator app using GL API.ipynb Cell 1\u001b[0m in \u001b[0;36m2\n\u001b[0;32m     <a href='vscode-notebook-cell:/e%3A/python%20files/transalator%20app%20using%20GL%20API.ipynb#W0sZmlsZQ%3D%3D?line=16'>17</a>\u001b[0m         \u001b[39mprint\u001b[39m()\n\u001b[0;32m     <a href='vscode-notebook-cell:/e%3A/python%20files/transalator%20app%20using%20GL%20API.ipynb#W0sZmlsZQ%3D%3D?line=18'>19</a>\u001b[0m \u001b[39mif\u001b[39;00m \u001b[39m__name__\u001b[39m \u001b[39m==\u001b[39m \u001b[39m'\u001b[39m\u001b[39m__main__\u001b[39m\u001b[39m'\u001b[39m:\n\u001b[1;32m---> <a href='vscode-notebook-cell:/e%3A/python%20files/transalator%20app%20using%20GL%20API.ipynb#W0sZmlsZQ%3D%3D?line=19'>20</a>\u001b[0m     main()\n",
      "\u001b[1;32me:\\python files\\transalator app using GL API.ipynb Cell 1\u001b[0m in \u001b[0;36m1\n\u001b[0;32m     <a href='vscode-notebook-cell:/e%3A/python%20files/transalator%20app%20using%20GL%20API.ipynb#W0sZmlsZQ%3D%3D?line=12'>13</a>\u001b[0m     \u001b[39mbreak\u001b[39;00m\n\u001b[0;32m     <a href='vscode-notebook-cell:/e%3A/python%20files/transalator%20app%20using%20GL%20API.ipynb#W0sZmlsZQ%3D%3D?line=13'>14</a>\u001b[0m dest_lang \u001b[39m=\u001b[39m \u001b[39minput\u001b[39m(\u001b[39m\"\u001b[39m\u001b[39mEnter destination language: \u001b[39m\u001b[39m\"\u001b[39m)\n\u001b[1;32m---> <a href='vscode-notebook-cell:/e%3A/python%20files/transalator%20app%20using%20GL%20API.ipynb#W0sZmlsZQ%3D%3D?line=14'>15</a>\u001b[0m translated_text \u001b[39m=\u001b[39m translate_text(text, dest_lang)\n\u001b[0;32m     <a href='vscode-notebook-cell:/e%3A/python%20files/transalator%20app%20using%20GL%20API.ipynb#W0sZmlsZQ%3D%3D?line=15'>16</a>\u001b[0m \u001b[39mprint\u001b[39m(\u001b[39m\"\u001b[39m\u001b[39mTranslated text:\u001b[39m\u001b[39m\"\u001b[39m, translated_text)\n\u001b[0;32m     <a href='vscode-notebook-cell:/e%3A/python%20files/transalator%20app%20using%20GL%20API.ipynb#W0sZmlsZQ%3D%3D?line=16'>17</a>\u001b[0m \u001b[39mprint\u001b[39m()\n",
      "\u001b[1;32me:\\python files\\transalator app using GL API.ipynb Cell 1\u001b[0m in \u001b[0;36m4\n\u001b[0;32m      <a href='vscode-notebook-cell:/e%3A/python%20files/transalator%20app%20using%20GL%20API.ipynb#W0sZmlsZQ%3D%3D?line=1'>2</a>\u001b[0m \u001b[39mdef\u001b[39;00m \u001b[39mtranslate_text\u001b[39m(text, dest_lang):\n\u001b[0;32m      <a href='vscode-notebook-cell:/e%3A/python%20files/transalator%20app%20using%20GL%20API.ipynb#W0sZmlsZQ%3D%3D?line=2'>3</a>\u001b[0m     translator \u001b[39m=\u001b[39m Translator()\n\u001b[1;32m----> <a href='vscode-notebook-cell:/e%3A/python%20files/transalator%20app%20using%20GL%20API.ipynb#W0sZmlsZQ%3D%3D?line=3'>4</a>\u001b[0m     translated \u001b[39m=\u001b[39m translator\u001b[39m.\u001b[39;49mtranslate(text, dest\u001b[39m=\u001b[39;49mdest_lang)\n\u001b[0;32m      <a href='vscode-notebook-cell:/e%3A/python%20files/transalator%20app%20using%20GL%20API.ipynb#W0sZmlsZQ%3D%3D?line=4'>5</a>\u001b[0m     \u001b[39mreturn\u001b[39;00m translated\u001b[39m.\u001b[39mtext\n",
      "File \u001b[1;32mc:\\Users\\Ranil\\AppData\\Local\\Programs\\Python\\Python310\\lib\\site-packages\\googletrans\\client.py:191\u001b[0m, in \u001b[0;36mTranslator.translate\u001b[1;34m(self, text, dest, src)\u001b[0m\n\u001b[0;32m    189\u001b[0m         dest \u001b[39m=\u001b[39m LANGCODES[dest]\n\u001b[0;32m    190\u001b[0m     \u001b[39melse\u001b[39;00m:\n\u001b[1;32m--> 191\u001b[0m         \u001b[39mraise\u001b[39;00m \u001b[39mValueError\u001b[39;00m(\u001b[39m'\u001b[39m\u001b[39minvalid destination language\u001b[39m\u001b[39m'\u001b[39m)\n\u001b[0;32m    193\u001b[0m origin \u001b[39m=\u001b[39m text\n\u001b[0;32m    194\u001b[0m data, response \u001b[39m=\u001b[39m \u001b[39mself\u001b[39m\u001b[39m.\u001b[39m_translate(text, dest, src)\n",
      "\u001b[1;31mValueError\u001b[0m: invalid destination language"
     ]
    }
   ],
   "source": [
    "from googletrans import Translator\n",
    "def translate_text(text, dest_lang):\n",
    "    translator = Translator()\n",
    "    translated = translator.translate(text, dest=dest_lang)\n",
    "    return translated.text\n",
    "\n",
    "def main():\n",
    "    print(\"Translator App\")\n",
    "    print(\"----------------\")\n",
    "    while True:\n",
    "        text = input(\"Enter text to translate (or 'q' to quit): \")\n",
    "        if text == 'q':\n",
    "            break\n",
    "        dest_lang = input(\"Enter destination language: \")\n",
    "        translated_text = translate_text(text, dest_lang)\n",
    "        print(\"Translated text:\", translated_text)\n",
    "        print()\n",
    "\n",
    "if __name__ == '__main__':\n",
    "    main()"
   ]
  }
 ],
 "metadata": {
  "kernelspec": {
   "display_name": "Python 3",
   "language": "python",
   "name": "python3"
  },
  "language_info": {
   "codemirror_mode": {
    "name": "ipython",
    "version": 3
   },
   "file_extension": ".py",
   "mimetype": "text/x-python",
   "name": "python",
   "nbconvert_exporter": "python",
   "pygments_lexer": "ipython3",
   "version": "3.10.11"
  },
  "orig_nbformat": 4
 },
 "nbformat": 4,
 "nbformat_minor": 2
}
