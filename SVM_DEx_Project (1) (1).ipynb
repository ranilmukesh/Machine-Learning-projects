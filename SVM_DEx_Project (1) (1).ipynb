{
  "cells": [
    {
      "cell_type": "code",
      "execution_count": 13,
      "metadata": {
        "colab": {
          "base_uri": "https://localhost:8080/"
        },
        "id": "n5VsfJ0WhTow",
        "outputId": "603d2ff6-e200-442e-b283-2f7ed1407e4e"
      },
      "outputs": [
        {
          "name": "stdout",
          "output_type": "stream",
          "text": [
            "Accuracy: 1.0\n"
          ]
        }
      ],
      "source": [
        "import os\n",
        "import cv2\n",
        "import numpy as np\n",
        "from sklearn import svm\n",
        "from sklearn.metrics import accuracy_score\n",
        "from sklearn.model_selection import train_test_split\n",
        "from sklearn.preprocessing import LabelEncoder\n",
        "import imgaug.augmenters as iaa\n",
        "\n",
        "# Set up directories for male and female images\n",
        "male_dir = \"E:\\python files\\Male\"\n",
        "female_dir = \"E:\\python files\\Female\"\n",
        "\n",
        "# Preprocessing function to resize and preprocess images\n",
        "def preprocess(img):\n",
        "    img = cv2.resize(img, (100, 100))\n",
        "    img = cv2.cvtColor(img, cv2.COLOR_BGR2GRAY)\n",
        "    img = img.flatten()\n",
        "    return img\n",
        "\n",
        "# Load male and female images into arrays and preprocess them\n",
        "male_images = []\n",
        "for img_file in os.listdir(male_dir):\n",
        "    img = cv2.imread(os.path.join(male_dir, img_file))\n",
        "    img = preprocess(img)\n",
        "    male_images.append(img)\n",
        "\n",
        "female_images = []\n",
        "for img_file in os.listdir(female_dir):\n",
        "    img = cv2.imread(os.path.join(female_dir, img_file))\n",
        "    img = preprocess(img)\n",
        "    female_images.append(img)\n",
        "\n",
        "# Combine male and female images into a single dataset and labels array\n",
        "X = np.concatenate((male_images, female_images))\n",
        "y = np.concatenate((np.ones(len(male_images)), np.zeros(len(female_images))))\n",
        "\n",
        "# Apply image augmentations to the dataset\n",
        "seq = iaa.Sequential([\n",
        "    iaa.Crop(px=(0, 16)), # crop images\n",
        "    iaa.Fliplr(0.5), # horizontally flip 50% of the images\n",
        "    iaa.GaussianBlur(sigma=(0, 3.0)), # blur images with a sigma of 0 to 3.0\n",
        "    iaa.Affine(rotate=(-45, 45)), # rotate images by -45 to 45 degrees\n",
        "    iaa.LinearContrast((0.75, 1.5)), # adjust contrast of images\n",
        "    iaa.Multiply((0.8, 1.2)) # multiply pixel values with random values between 0.8 to 1.2\n",
        "])\n",
        "\n",
        "X_augmented = seq.augment_images(X)\n",
        "\n",
        "# Split dataset into training and testing sets\n",
        "X_train, X_test, y_train, y_test = train_test_split(X_augmented, y, test_size=0.2, random_state=42)\n",
        "\n",
        "# Encode labels as integers\n",
        "le = LabelEncoder()\n",
        "y_train = le.fit_transform(y_train)\n",
        "y_test = le.transform(y_test)\n",
        "\n",
        "# Train SVM model on training data\n",
        "clf = svm.SVC(kernel='linear')\n",
        "clf.fit(X_train, y_train)\n",
        "\n",
        "# Test SVM model on testing data and evaluate accuracy\n",
        "y_pred = clf.predict(X_test)\n",
        "accuracy = accuracy_score(y_test, y_pred)\n",
        "print(\"Accuracy:\", accuracy)\n"
      ]
    },
    {
      "cell_type": "code",
      "execution_count": 14,
      "metadata": {
        "colab": {
          "base_uri": "https://localhost:8080/"
        },
        "id": "wytcnjed9fN1",
        "outputId": "5c5efe4f-d8a2-4fd4-f1f0-c7b9ef37ee43"
      },
      "outputs": [
        {
          "name": "stdout",
          "output_type": "stream",
          "text": [
            "[[51  0]\n",
            " [ 0 43]]\n"
          ]
        }
      ],
      "source": [
        "from sklearn.metrics import confusion_matrix\n",
        "\n",
        "# make predictions on the testing dataset\n",
        "y_pred = clf.predict(X_test)\n",
        "\n",
        "# generate a confusion matrix\n",
        "cm = confusion_matrix(y_test, y_pred)\n",
        "print(cm)\n"
      ]
    },
    {
      "cell_type": "code",
      "execution_count": 15,
      "metadata": {
        "colab": {
          "base_uri": "https://localhost:8080/",
          "height": 472
        },
        "id": "yrLZIXELAC2r",
        "outputId": "3a102b84-9d9a-41ea-ca31-13277a38570a"
      },
      "outputs": [
        {
          "data": {
            "image/png": "[encoded data removed]",
            "text/plain": [
              "<Figure size 640x480 with 2 Axes>"
            ]
          },
          "metadata": {},
          "output_type": "display_data"
        }
      ],
      "source": [
        "import matplotlib.pyplot as plt\n",
        "import numpy as np\n",
        "from sklearn.metrics import confusion_matrix\n",
        "\n",
        "# define the list of unique class labels\n",
        "classes = ['male', 'female']\n",
        "\n",
        "# make predictions on the testing dataset\n",
        "y_pred = clf.predict(X_test)\n",
        "\n",
        "# generate a confusion matrix\n",
        "cm = confusion_matrix(y_test, y_pred)\n",
        "\n",
        "# plot the confusion matrix\n",
        "plt.imshow(cm, cmap=plt.cm.Blues)\n",
        "plt.title('Confusion Matrix')\n",
        "plt.colorbar()\n",
        "\n",
        "tick_marks = np.arange(len(classes))\n",
        "plt.xticks(tick_marks, classes)\n",
        "plt.yticks(tick_marks, classes)\n",
        "\n",
        "plt.xlabel('Predicted Label')\n",
        "plt.ylabel('True Label')\n",
        "\n",
        "for i in range(len(classes)):\n",
        "    for j in range(len(classes)):\n",
        "        plt.text(j, i, cm[i, j], horizontalalignment='center', \n",
        "                 color='white' if cm[i, j] > len(X_test)/2 else 'black')\n",
        "\n",
        "plt.show()\n"
      ]
    },
    {
      "cell_type": "code",
      "execution_count": 16,
      "metadata": {
        "colab": {
          "base_uri": "https://localhost:8080/"
        },
        "id": "5tO4amz--mw4",
        "outputId": "237a252f-16a6-4e03-a18d-c73d4b5ed914"
      },
      "outputs": [
        {
          "name": "stdout",
          "output_type": "stream",
          "text": [
            "              precision    recall  f1-score   support\n",
            "\n",
            "           0       1.00      1.00      1.00        51\n",
            "           1       1.00      1.00      1.00        43\n",
            "\n",
            "    accuracy                           1.00        94\n",
            "   macro avg       1.00      1.00      1.00        94\n",
            "weighted avg       1.00      1.00      1.00        94\n",
            "\n",
            "Accuracy: 1.0\n"
          ]
        }
      ],
      "source": [
        "from sklearn.metrics import classification_report\n",
        "\n",
        "# make predictions on the testing dataset\n",
        "y_pred = clf.predict(X_test)\n",
        "\n",
        "# generate a classification report\n",
        "report = classification_report(y_test, y_pred)\n",
        "\n",
        "# print the classification report\n",
        "print(report)\n",
        "\n",
        "y_pred = clf.predict(X_test)\n",
        "accuracy = accuracy_score(y_test, y_pred)\n",
        "print(\"Accuracy:\", accuracy)"
      ]
    }
  ],
  "metadata": {
    "colab": {
      "provenance": []
    },
    "kernelspec": {
      "display_name": "Python 3",
      "name": "python3"
    },
    "language_info": {
      "codemirror_mode": {
        "name": "ipython",
        "version": 3
      },
      "file_extension": ".py",
      "mimetype": "text/x-python",
      "name": "python",
      "nbconvert_exporter": "python",
      "pygments_lexer": "ipython3",
      "version": "3.10.11"
    }
  },
  "nbformat": 4,
  "nbformat_minor": 0
}
